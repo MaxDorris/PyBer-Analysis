{
 "cells": [
  {
   "cell_type": "markdown",
   "id": "b7d1a144",
   "metadata": {},
   "source": [
    "# Sandbox 2 - City and Ride Data"
   ]
  },
  {
   "cell_type": "code",
   "execution_count": 8,
   "id": "912eab2a",
   "metadata": {},
   "outputs": [],
   "source": [
    "# import dependencies\n",
    "%matplotlib inline\n",
    "import matplotlib.pyplot as plt\n",
    "import pandas as pd\n",
    "import numpy as np\n",
    "import statistics as stats"
   ]
  },
  {
   "cell_type": "markdown",
   "id": "c3fc8e42",
   "metadata": {},
   "source": [
    "## Import Data"
   ]
  },
  {
   "cell_type": "code",
   "execution_count": 9,
   "id": "516156d9",
   "metadata": {},
   "outputs": [
    {
     "name": "stdout",
     "output_type": "stream",
     "text": [
      "                 city                 date   fare        ride_id\n",
      "0  Lake Jonathanshire  2019-01-14 10:14:22  13.83  5739410935873\n",
      "1  South Michelleport  2019-03-04 18:24:09  30.24  2343912425577\n",
      "2  Port Samanthamouth  2019-02-24 04:29:00  33.44  2005065760003\n",
      "3          Rodneyfort  2019-02-10 23:22:03  23.44  5149245426178\n",
      "4          South Jack  2019-03-06 04:28:35  34.58  3908451377344\n",
      "           city  driver_count   type\n",
      "0   Richardfort            38  Urban\n",
      "1  Williamsstad            59  Urban\n",
      "2   Port Angela            67  Urban\n",
      "3    Rodneyfort            34  Urban\n",
      "4   West Robert            39  Urban\n"
     ]
    }
   ],
   "source": [
    "# import ride and city data to Pandas dataframe\n",
    "ride_data_file = \"Resources/ride_data.csv\"\n",
    "city_data_file = \"Resources/city_data.csv\"\n",
    "ride_df = pd.read_csv(ride_data_file)\n",
    "city_df = pd.read_csv(city_data_file)\n",
    "print(ride_df.head())\n",
    "print(city_df.head())"
   ]
  },
  {
   "cell_type": "markdown",
   "id": "9477c608",
   "metadata": {},
   "source": [
    "## Clean and Examine City Data"
   ]
  },
  {
   "cell_type": "code",
   "execution_count": 20,
   "id": "109307cd",
   "metadata": {},
   "outputs": [
    {
     "data": {
      "text/plain": [
       "city            120\n",
       "driver_count    120\n",
       "type            120\n",
       "dtype: int64"
      ]
     },
     "execution_count": 20,
     "metadata": {},
     "output_type": "execute_result"
    }
   ],
   "source": [
    "# get number of rows for each column\n",
    "city_df.count()"
   ]
  },
  {
   "cell_type": "code",
   "execution_count": 14,
   "id": "4904ccfd",
   "metadata": {},
   "outputs": [
    {
     "data": {
      "text/plain": [
       "city            0\n",
       "driver_count    0\n",
       "type            0\n",
       "dtype: int64"
      ]
     },
     "execution_count": 14,
     "metadata": {},
     "output_type": "execute_result"
    }
   ],
   "source": [
    "# examine city data for nan/null values (count and drop)\n",
    "city_df.isnull().sum()"
   ]
  },
  {
   "cell_type": "code",
   "execution_count": 16,
   "id": "0c26e0a0",
   "metadata": {},
   "outputs": [
    {
     "data": {
      "text/plain": [
       "city            object\n",
       "driver_count     int64\n",
       "type            object\n",
       "dtype: object"
      ]
     },
     "execution_count": 16,
     "metadata": {},
     "output_type": "execute_result"
    }
   ],
   "source": [
    "# make sure driver count is integer type\n",
    "city_df.dtypes"
   ]
  },
  {
   "cell_type": "code",
   "execution_count": 18,
   "id": "86c63d8d",
   "metadata": {},
   "outputs": [
    {
     "data": {
      "text/plain": [
       "Urban       66\n",
       "Suburban    36\n",
       "Rural       18\n",
       "Name: type, dtype: int64"
      ]
     },
     "execution_count": 18,
     "metadata": {},
     "output_type": "execute_result"
    }
   ],
   "source": [
    "# count total of each type of city\n",
    "city_df['type'].value_counts()"
   ]
  },
  {
   "cell_type": "markdown",
   "id": "ea62d3a6",
   "metadata": {},
   "source": [
    "## Clean and Examine Ride Data"
   ]
  },
  {
   "cell_type": "code",
   "execution_count": 21,
   "id": "2acef24e",
   "metadata": {},
   "outputs": [
    {
     "data": {
      "text/plain": [
       "city       2375\n",
       "date       2375\n",
       "fare       2375\n",
       "ride_id    2375\n",
       "dtype: int64"
      ]
     },
     "execution_count": 21,
     "metadata": {},
     "output_type": "execute_result"
    }
   ],
   "source": [
    "#count rows in ride data\n",
    "ride_df.count()"
   ]
  },
  {
   "cell_type": "code",
   "execution_count": 22,
   "id": "347481f9",
   "metadata": {},
   "outputs": [
    {
     "data": {
      "text/plain": [
       "city       0\n",
       "date       0\n",
       "fare       0\n",
       "ride_id    0\n",
       "dtype: int64"
      ]
     },
     "execution_count": 22,
     "metadata": {},
     "output_type": "execute_result"
    }
   ],
   "source": [
    "# find nan/null values in ride data\n",
    "ride_df.isnull().sum()"
   ]
  },
  {
   "cell_type": "code",
   "execution_count": 24,
   "id": "dd8292c2",
   "metadata": {},
   "outputs": [
    {
     "data": {
      "text/plain": [
       "city        object\n",
       "date        object\n",
       "fare       float64\n",
       "ride_id      int64\n",
       "dtype: object"
      ]
     },
     "execution_count": 24,
     "metadata": {},
     "output_type": "execute_result"
    }
   ],
   "source": [
    "# check data types are correct\n",
    "ride_df.dtypes"
   ]
  },
  {
   "cell_type": "code",
   "execution_count": 33,
   "id": "803c34fd",
   "metadata": {},
   "outputs": [],
   "source": [
    "#convert date column to datetime\n",
    "ride_df['date']= pd.to_datetime(ride_df['date'])"
   ]
  },
  {
   "cell_type": "markdown",
   "id": "67543fa4",
   "metadata": {},
   "source": [
    "# Merge Data"
   ]
  },
  {
   "cell_type": "code",
   "execution_count": 38,
   "id": "86842943",
   "metadata": {},
   "outputs": [
    {
     "data": {
      "text/html": [
       "<div>\n",
       "<style scoped>\n",
       "    .dataframe tbody tr th:only-of-type {\n",
       "        vertical-align: middle;\n",
       "    }\n",
       "\n",
       "    .dataframe tbody tr th {\n",
       "        vertical-align: top;\n",
       "    }\n",
       "\n",
       "    .dataframe thead th {\n",
       "        text-align: right;\n",
       "    }\n",
       "</style>\n",
       "<table border=\"1\" class=\"dataframe\">\n",
       "  <thead>\n",
       "    <tr style=\"text-align: right;\">\n",
       "      <th></th>\n",
       "      <th>city</th>\n",
       "      <th>date</th>\n",
       "      <th>fare</th>\n",
       "      <th>ride_id</th>\n",
       "      <th>driver_count</th>\n",
       "      <th>type</th>\n",
       "    </tr>\n",
       "  </thead>\n",
       "  <tbody>\n",
       "    <tr>\n",
       "      <th>0</th>\n",
       "      <td>Lake Jonathanshire</td>\n",
       "      <td>2019-01-14 10:14:22</td>\n",
       "      <td>13.83</td>\n",
       "      <td>5739410935873</td>\n",
       "      <td>5</td>\n",
       "      <td>Urban</td>\n",
       "    </tr>\n",
       "    <tr>\n",
       "      <th>1</th>\n",
       "      <td>South Michelleport</td>\n",
       "      <td>2019-03-04 18:24:09</td>\n",
       "      <td>30.24</td>\n",
       "      <td>2343912425577</td>\n",
       "      <td>72</td>\n",
       "      <td>Urban</td>\n",
       "    </tr>\n",
       "    <tr>\n",
       "      <th>2</th>\n",
       "      <td>Port Samanthamouth</td>\n",
       "      <td>2019-02-24 04:29:00</td>\n",
       "      <td>33.44</td>\n",
       "      <td>2005065760003</td>\n",
       "      <td>57</td>\n",
       "      <td>Urban</td>\n",
       "    </tr>\n",
       "    <tr>\n",
       "      <th>3</th>\n",
       "      <td>Rodneyfort</td>\n",
       "      <td>2019-02-10 23:22:03</td>\n",
       "      <td>23.44</td>\n",
       "      <td>5149245426178</td>\n",
       "      <td>34</td>\n",
       "      <td>Urban</td>\n",
       "    </tr>\n",
       "    <tr>\n",
       "      <th>4</th>\n",
       "      <td>South Jack</td>\n",
       "      <td>2019-03-06 04:28:35</td>\n",
       "      <td>34.58</td>\n",
       "      <td>3908451377344</td>\n",
       "      <td>46</td>\n",
       "      <td>Urban</td>\n",
       "    </tr>\n",
       "  </tbody>\n",
       "</table>\n",
       "</div>"
      ],
      "text/plain": [
       "                 city                date   fare        ride_id  driver_count  \\\n",
       "0  Lake Jonathanshire 2019-01-14 10:14:22  13.83  5739410935873             5   \n",
       "1  South Michelleport 2019-03-04 18:24:09  30.24  2343912425577            72   \n",
       "2  Port Samanthamouth 2019-02-24 04:29:00  33.44  2005065760003            57   \n",
       "3          Rodneyfort 2019-02-10 23:22:03  23.44  5149245426178            34   \n",
       "4          South Jack 2019-03-06 04:28:35  34.58  3908451377344            46   \n",
       "\n",
       "    type  \n",
       "0  Urban  \n",
       "1  Urban  \n",
       "2  Urban  \n",
       "3  Urban  \n",
       "4  Urban  "
      ]
     },
     "execution_count": 38,
     "metadata": {},
     "output_type": "execute_result"
    }
   ],
   "source": [
    "# merge both datframes on city column\n",
    "\n",
    "merged_df = pd.merge(ride_df, city_df, how='left', on=['city','city'])\n",
    "merged_df.head()"
   ]
  }
 ],
 "metadata": {
  "kernelspec": {
   "display_name": "Python 3 (ipykernel)",
   "language": "python",
   "name": "python3"
  },
  "language_info": {
   "codemirror_mode": {
    "name": "ipython",
    "version": 3
   },
   "file_extension": ".py",
   "mimetype": "text/x-python",
   "name": "python",
   "nbconvert_exporter": "python",
   "pygments_lexer": "ipython3",
   "version": "3.10.8"
  }
 },
 "nbformat": 4,
 "nbformat_minor": 5
}
